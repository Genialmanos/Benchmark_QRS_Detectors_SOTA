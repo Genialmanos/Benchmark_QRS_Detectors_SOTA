{
 "cells": [
  {
   "cell_type": "code",
   "execution_count": null,
   "id": "066dc0a4-9330-4bef-b5aa-362a3e7a2fbd",
   "metadata": {},
   "outputs": [],
   "source": [
    "import pandas as pd\n",
    "import matplotlib.pyplot as plt\n",
    "import numpy as np\n",
    "from sklearn.model_selection import train_test_split\n",
    "import os\n",
    "\n",
    "\n",
    "#from utils import print_signal_qrs, print_signal, calcul_f1, perf\n",
    "\n",
    "\n",
    "import tensorflow as tf\n",
    "\n",
    "from tensorflow.keras.models import Sequential\n",
    "from tensorflow.keras.layers import Conv1D, MaxPooling1D, Flatten, Dense, Dropout\n",
    "from keras.optimizers import SGD\n",
    "from keras.callbacks import ReduceLROnPlateau\n",
    "from scipy.signal import resample\n",
    "from scipy.interpolate import UnivariateSpline\n",
    "\n",
    "import pickle\n",
    "import joblib"
   ]
  },
  {
   "cell_type": "markdown",
   "id": "48f7815b",
   "metadata": {},
   "source": [
    "# Le preprocessing dans l'article est un peu bizarre alors j'ai juste demandé à gpt de me faire un truc à peu près"
   ]
  },
  {
   "cell_type": "code",
   "execution_count": null,
   "id": "f9409a39-84b1-4321-8cfb-a5de85a2e00a",
   "metadata": {},
   "outputs": [],
   "source": [
    "def preprocessing(signal, fs):\n",
    "    clean_baseline = baseline_wander_removal(signal)\n",
    "    normalization = normalize_signal(clean_baseline)\n",
    "    return normalization\n",
    "\n",
    "def baseline_wander_removal(ecg_signal, window_size=4, sampling_rate=360, subsample_rate=200):\n",
    "    # Convert window size to number of samples\n",
    "    window_samples = window_size * sampling_rate\n",
    "    \n",
    "    # Initialize an empty array to store the corrected signal\n",
    "    corrected_signal = np.zeros_like(ecg_signal)\n",
    "    \n",
    "    # Process the signal in windows\n",
    "    for start in range(0, len(ecg_signal), window_samples):\n",
    "        end = min(start + window_samples, len(ecg_signal))\n",
    "        segment = ecg_signal[start:end]\n",
    "        \n",
    "        # Resample segment to reduce computational load\n",
    "        resampled_segment = resample(segment, subsample_rate)\n",
    "        \n",
    "        # Perform LOESS regression\n",
    "        x = np.linspace(0, len(resampled_segment) - 1, len(resampled_segment))\n",
    "        spline = UnivariateSpline(x, resampled_segment, s=len(resampled_segment))\n",
    "        baseline = spline(x)\n",
    "        \n",
    "        # Upsample the baseline back to the original sampling rate\n",
    "        baseline_full = resample(baseline, len(segment))\n",
    "        \n",
    "        # Subtract the baseline from the original segment\n",
    "        corrected_signal[start:end] = segment - baseline_full\n",
    "    \n",
    "    return corrected_signal\n",
    "\n",
    "def normalize_signal(ecg_signal):\n",
    "    mean_val = np.mean(ecg_signal)\n",
    "    std_val = np.std(ecg_signal)\n",
    "    \n",
    "    # Subtract mean and divide by standard deviation\n",
    "    normalized_signal = (ecg_signal - mean_val) / std_val\n",
    "    \n",
    "    return normalized_signal"
   ]
  },
  {
   "cell_type": "code",
   "execution_count": null,
   "id": "87dca446",
   "metadata": {},
   "outputs": [],
   "source": [
    "def create_windows(ecg_signal, qrs_positions, fs, num_negative_samples=3):\n",
    "    points_before = int(100 * fs / 1000)\n",
    "    points_after = int(300 * fs / 1000)\n",
    "    total_points = points_before + points_after + 1\n",
    "\n",
    "    data_windows = []\n",
    "    labels = []\n",
    "    \n",
    "    tolerance = int(40 * fs / 1000)\n",
    "    \n",
    "    for qrs in qrs_positions:\n",
    "        start = qrs - points_before\n",
    "        end = qrs + points_after + 1\n",
    "        if start >= 0 and end <= len(ecg_signal):\n",
    "            window = ecg_signal[start:end]\n",
    "            if len(window) != total_points:\n",
    "                print(f\"Taille incorrecte: {len(window)} au lieu de {total_points}, start={start}, end={end}\")\n",
    "                continue\n",
    "            data_windows.append(window)\n",
    "            labels.append(1)\n",
    "    \n",
    "    num_qrs_positions = len(qrs_positions)\n",
    "    signal_length = len(ecg_signal)\n",
    "    negative_count = 0\n",
    "    \n",
    "    \n",
    "    data_windows_array = np.array([np.array(window) for window in data_windows if len(window) == total_points])\n",
    "    \n",
    "    return data_windows_array, np.array(labels)"
   ]
  },
  {
   "cell_type": "code",
   "execution_count": null,
   "id": "368514cf",
   "metadata": {},
   "outputs": [],
   "source": [
    "def create_model(input_shape):\n",
    "    model = Sequential()\n",
    "    model.add(Conv1D(filters=32, kernel_size=3, activation='relu', input_shape=input_shape))\n",
    "    model.add(MaxPooling1D(pool_size=2))\n",
    "    model.add(Conv1D(filters=64, kernel_size=3, activation='relu'))\n",
    "    model.add(MaxPooling1D(pool_size=2))\n",
    "    model.add(Flatten())\n",
    "    model.add(Dense(100, activation='relu'))\n",
    "    model.add(Dropout(0.5))\n",
    "    model.add(Dense(1, activation='sigmoid'))\n",
    "    \n",
    "    model.compile(optimizer='adam', loss='binary_crossentropy', metrics=['accuracy'])\n",
    "    return model"
   ]
  },
  {
   "cell_type": "code",
   "execution_count": null,
   "id": "53037115",
   "metadata": {},
   "outputs": [],
   "source": [
    "# Créer le modèle\n",
    "input_shape = (145, 1)  # 145 points par fenêtre, 1 canal\n",
    "model = create_model(input_shape)\n",
    "model.summary()"
   ]
  },
  {
   "cell_type": "code",
   "execution_count": null,
   "id": "63398151-e5b9-4ae1-8b20-dd4bd150cd3e",
   "metadata": {
    "scrolled": true
   },
   "outputs": [],
   "source": [
    "X_train_all, X_test_all = [], []\n",
    "y_train_all, y_test_all = [], []\n",
    "\n",
    "for file in ['101', '104', '107', '113', '116', '121', '201', '207', '209', '212', '215', '219', '228', '233']:\n",
    "    print(file)\n",
    "    df = pd.read_csv(f'data_csv/mit_bih_Arrhythmia/{file}.csv') #207\n",
    "    ecg_signal = None\n",
    "    if file == \"104\":\n",
    "        ecg_signal = np.array(df[\"V2\"], dtype=np.float32)#[:10000]\n",
    "    else:\n",
    "        ecg_signal = np.array(df[\"MLII\"], dtype=np.float32)#[:10000]\n",
    "    fs = 360\n",
    "    QRS = df[\"labels\"].dropna().astype(int).tolist()\n",
    "    labels = np.zeros(len(ecg_signal))\n",
    "\n",
    "    cleaned_ecg = preprocessing(ecg_signal, fs)\n",
    "    \n",
    "    X, y = create_windows(cleaned_ecg, QRS, fs)\n",
    "    X_train, X_test, y_train, y_test = train_test_split(X, y, test_size=0.001, random_state=42)\n",
    "\n",
    "    X_train = X_train.reshape((X_train.shape[0], X_train.shape[1], 1))\n",
    "    X_test = X_test.reshape((X_test.shape[0], X_test.shape[1], 1))\n",
    "    \n",
    "    X_train_all.extend(X_train)\n",
    "    X_test_all.extend(X_test)\n",
    "    y_train_all.extend(y_train)\n",
    "    y_test_all.extend(y_test)"
   ]
  },
  {
   "cell_type": "code",
   "execution_count": null,
   "id": "74cb2ee8",
   "metadata": {},
   "outputs": [],
   "source": [
    "X_train = X_train.reshape((X_train.shape[0], X_train.shape[1], 1))\n",
    "X_test = X_test.reshape((X_test.shape[0], X_test.shape[1], 1))\n",
    "\n",
    "input_shape = (145, 1)  # 145 points par fenêtre, 1 canal\n",
    "model = create_model(input_shape)\n",
    "history = model.fit(np.array(X_train_all), np.array(y_train_all), epochs=5, batch_size=64)"
   ]
  },
  {
   "cell_type": "code",
   "execution_count": null,
   "id": "b0c2b178",
   "metadata": {},
   "outputs": [],
   "source": [
    "model.save(\"../benchmark_qrs_detectors/model_CNN_arrhythmia.h5\")"
   ]
  }
 ],
 "metadata": {
  "kernelspec": {
   "display_name": "Python 3 (ipykernel)",
   "language": "python",
   "name": "python3"
  },
  "language_info": {
   "codemirror_mode": {
    "name": "ipython",
    "version": 3
   },
   "file_extension": ".py",
   "mimetype": "text/x-python",
   "name": "python",
   "nbconvert_exporter": "python",
   "pygments_lexer": "ipython3",
   "version": "3.11.5"
  }
 },
 "nbformat": 4,
 "nbformat_minor": 5
}
