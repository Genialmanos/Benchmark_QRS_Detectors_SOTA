{
 "cells": [
  {
   "cell_type": "code",
   "execution_count": 1,
   "id": "7eb0e5ac",
   "metadata": {},
   "outputs": [],
   "source": [
    "import pandas as pd\n",
    "import matplotlib.pyplot as plt\n",
    "import numpy as np\n",
    "import wfdb\n",
    "import csv\n",
    "import os\n",
    "from scipy.signal import butter, filtfilt\n",
    "import scipy\n",
    "import time\n",
    "from scipy.interpolate import CubicSpline\n",
    "from sklearn.preprocessing import MinMaxScaler"
   ]
  },
  {
   "cell_type": "code",
   "execution_count": 2,
   "id": "17996043",
   "metadata": {},
   "outputs": [],
   "source": [
    "def perf(labels, peaks, minmax):\n",
    "    x = np.concatenate([np.array(labels), np.array(peaks)]) #list(set(QRS + r_peaks))\n",
    "    x.sort()\n",
    "    diff = x[1:]-x[:-1]\n",
    "    gps = np.concatenate([[0], np.cumsum(diff>=minmax)])\n",
    "    temp = [x[gps==i] for i in range(gps[-1]+1)]\n",
    "    TP = 0\n",
    "    FP = 0\n",
    "    FN = 0\n",
    "    list_F = []\n",
    "    for sublist in temp:\n",
    "        if len(sublist) == 2:\n",
    "            TP += 1\n",
    "        else:\n",
    "            list_F.append(sublist)\n",
    "            if sublist[0] in labels:\n",
    "                FN += 1\n",
    "            else:\n",
    "                FP += 1\n",
    "    return TP, FP, FN #, list_F\n",
    "\n",
    "def print_signal(signal, description = \"a\"):\n",
    "    print(f\"signal de longueur: {len(signal)}\")\n",
    "    plt.figure()\n",
    "    plt.plot(signal)\n",
    "    #plt.scatter(QRS, [signal[i] for i in QRS], color='red')\n",
    "    plt.title(label= description)\n",
    "    plt.show()\n",
    "    \n",
    "def print_signal_qrs(signal, qrs, description = \"a\"):\n",
    "    print(f\"signal de longueur: {len(signal)}\")\n",
    "    plt.figure()\n",
    "    plt.plot(signal)\n",
    "    plt.scatter(qrs, [signal[i] for i in qrs], color='red')\n",
    "    plt.title(label= description)\n",
    "    plt.show()"
   ]
  },
  {
   "cell_type": "code",
   "execution_count": 3,
   "id": "6a367bb4",
   "metadata": {},
   "outputs": [
    {
     "data": {
      "text/plain": [
       "(1, 0, 1871)"
      ]
     },
     "execution_count": 3,
     "metadata": {},
     "output_type": "execute_result"
    }
   ],
   "source": [
    "import numpy as np\n",
    "from scipy.signal import cheby1, filtfilt\n",
    "\n",
    "# Fonction pour filtrer le signal avec un filtre passe-bande de Chebyshev\n",
    "def bandpass_filter(signal, fs, lowcut, highcut, order=4):\n",
    "    nyquist = 0.5 * fs\n",
    "    low = lowcut / nyquist\n",
    "    high = highcut / nyquist\n",
    "    b, a = cheby1(order, 0.5, [low, high], btype='band')\n",
    "    return filtfilt(b, a, signal)\n",
    "\n",
    "# Fonction pour la différenciation fractionnaire d'ordre numérique\n",
    "def dfod(signal, order=0.5):\n",
    "    return np.diff(signal, n=int(order))\n",
    "\n",
    "# Fonction pour la transformation de longueur de courbe absolue (A-CLT)\n",
    "def aclt(signal):\n",
    "    return np.cumsum(np.abs(np.diff(signal)))\n",
    "\n",
    "# Fonction pour la moyenne mobile\n",
    "def moving_average(signal, window_size=30):\n",
    "    return np.convolve(signal, np.ones(window_size) / window_size, mode='same')\n",
    "\n",
    "# Fonction pour détecter les pics R\n",
    "def detect_r_peaks(ecg_signal, fs=360):\n",
    "    # Filtrage passe-bande\n",
    "    filtered_signal = bandpass_filter(ecg_signal, fs, 0.5, 40)\n",
    "    \n",
    "    # Différenciation fractionnaire\n",
    "    differentiated_signal = dfod(filtered_signal)\n",
    "    \n",
    "    # Transformation A-CLT\n",
    "    aclt_signal = aclt(differentiated_signal)\n",
    "    \n",
    "    # Moyenne mobile\n",
    "    moving_avg_signal = moving_average(aclt_signal)\n",
    "    \n",
    "    # Détection des pics R\n",
    "    r_peaks = []\n",
    "    threshold = np.mean(moving_avg_signal)\n",
    "    \n",
    "    for i in range(1, len(aclt_signal) - 1):\n",
    "        if aclt_signal[i] > threshold and aclt_signal[i] > aclt_signal[i - 1] and aclt_signal[i] > aclt_signal[i + 1]:\n",
    "            r_peaks.append(i)\n",
    "    \n",
    "    return r_peaks\n",
    "\n",
    "\n",
    "df = pd.read_csv('data_csv/mit_bih_Arrhythmia/101.csv') #207\n",
    "ecg_signal = np.array(df[\"MLII\"], dtype=np.float32) #[:10000] #[:maxi]\n",
    "fs = 360\n",
    "QRS = [int(i) for i in df[\"labels\"].dropna().tolist()[1:]]\n",
    "r_peaks = detect_r_peaks(ecg_signal)\n",
    "perf(QRS,r_peaks,36)"
   ]
  },
  {
   "cell_type": "code",
   "execution_count": 4,
   "id": "a035c0fe",
   "metadata": {},
   "outputs": [
    {
     "data": {
      "text/plain": [
       "[]"
      ]
     },
     "execution_count": 4,
     "metadata": {},
     "output_type": "execute_result"
    }
   ],
   "source": [
    "r_peaks"
   ]
  }
 ],
 "metadata": {
  "kernelspec": {
   "display_name": "Python 3 (ipykernel)",
   "language": "python",
   "name": "python3"
  },
  "language_info": {
   "codemirror_mode": {
    "name": "ipython",
    "version": 3
   },
   "file_extension": ".py",
   "mimetype": "text/x-python",
   "name": "python",
   "nbconvert_exporter": "python",
   "pygments_lexer": "ipython3",
   "version": "3.11.5"
  }
 },
 "nbformat": 4,
 "nbformat_minor": 5
}
